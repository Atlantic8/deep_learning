{
 "cells": [
  {
   "cell_type": "code",
   "execution_count": 7,
   "metadata": {},
   "outputs": [],
   "source": [
    "import torch\n",
    "torch.__version__\n",
    "\n",
    "import torch.nn as nn\n",
    "import numpy as np"
   ]
  },
  {
   "cell_type": "code",
   "execution_count": 8,
   "metadata": {},
   "outputs": [],
   "source": [
    "data = np.loadtxt(\"./dataset/german.data-numeric\")"
   ]
  },
  {
   "cell_type": "code",
   "execution_count": 9,
   "metadata": {},
   "outputs": [],
   "source": [
    "n, l = data.shape\n",
    "for j in range(l - 1):\n",
    "    meanVal = np.mean(data[:,j])\n",
    "    stdVal = np.std(data[:,j])\n",
    "    data[:,j] = (data[:,j] - meanVal) / stdVal"
   ]
  },
  {
   "cell_type": "code",
   "execution_count": 10,
   "metadata": {},
   "outputs": [
    {
     "name": "stdout",
     "output_type": "stream",
     "text": [
      "(1000, 25)\n"
     ]
    }
   ],
   "source": [
    "np.random.shuffle(data)\n",
    "print(data.shape)"
   ]
  },
  {
   "cell_type": "code",
   "execution_count": 11,
   "metadata": {},
   "outputs": [],
   "source": [
    "train_data = data[:900,:l-1]\n",
    "train_labe = data[:900,l-1]-1\n",
    "test_data  = data[900:,:l-1]\n",
    "test_label = data[900:,l-1]-1"
   ]
  },
  {
   "cell_type": "code",
   "execution_count": 12,
   "metadata": {},
   "outputs": [],
   "source": [
    "class LR(nn.Module):\n",
    "    def __init__(self):\n",
    "        super(LR, self).__init__()\n",
    "        # 24-dim data\n",
    "        self.fc = nn.Linear(24, 2)\n",
    "    \n",
    "    def forward(self, X):\n",
    "        out = self.fc(X)\n",
    "        out = torch.sigmoid(out)\n",
    "        return out"
   ]
  },
  {
   "cell_type": "code",
   "execution_count": 13,
   "metadata": {},
   "outputs": [],
   "source": [
    "def test(pred, lab):\n",
    "    t = pred.max(-1)[1] == lab\n",
    "    return torch.mean(t.float())"
   ]
  },
  {
   "cell_type": "code",
   "execution_count": 14,
   "metadata": {},
   "outputs": [],
   "source": [
    "net = LR()\n",
    "criterion = nn.CrossEntropyLoss()\n",
    "optm = torch.optim.Adam(net.parameters())\n",
    "epoch = 1000"
   ]
  },
  {
   "cell_type": "code",
   "execution_count": 15,
   "metadata": {},
   "outputs": [
    {
     "name": "stdout",
     "output_type": "stream",
     "text": [
      "Epoch: 100, Loss: 0.6592, Accuracy: 0.670\n",
      "Epoch: 200, Loss: 0.6298, Accuracy: 0.700\n",
      "Epoch: 300, Loss: 0.6108, Accuracy: 0.740\n",
      "Epoch: 400, Loss: 0.5970, Accuracy: 0.720\n",
      "Epoch: 500, Loss: 0.5867, Accuracy: 0.730\n",
      "Epoch: 600, Loss: 0.5788, Accuracy: 0.750\n",
      "Epoch: 700, Loss: 0.5724, Accuracy: 0.770\n",
      "Epoch: 800, Loss: 0.5671, Accuracy: 0.760\n",
      "Epoch: 900, Loss: 0.5626, Accuracy: 0.760\n",
      "Epoch: 1000, Loss: 0.5587, Accuracy: 0.760\n"
     ]
    }
   ],
   "source": [
    "for i in range(epoch):\n",
    "    net.train()\n",
    "    x = torch.from_numpy(train_data).float()\n",
    "    y = torch.from_numpy(train_labe).long()\n",
    "    y_hat = net(x)\n",
    "    loss = criterion(y_hat, y)\n",
    "    optm.zero_grad()\n",
    "    loss.backward()\n",
    "    optm.step()\n",
    "    if (i + 1) % 100 == 0:\n",
    "        net.eval()\n",
    "        test_in = torch.from_numpy(test_data).float()\n",
    "        test_l  = torch.from_numpy(test_label).long()\n",
    "        test_out = net(test_in)\n",
    "        \n",
    "        accu = test(test_out, test_l)\n",
    "        print('Epoch: {}, Loss: {:.4f}, Accuracy: {:.3f}'.format(i+1, loss.item(), accu))"
   ]
  },
  {
   "cell_type": "code",
   "execution_count": null,
   "metadata": {},
   "outputs": [],
   "source": []
  }
 ],
 "metadata": {
  "kernelspec": {
   "display_name": "Pytorch for Deeplearning",
   "language": "python",
   "name": "pytorch"
  },
  "language_info": {
   "codemirror_mode": {
    "name": "ipython",
    "version": 3
   },
   "file_extension": ".py",
   "mimetype": "text/x-python",
   "name": "python",
   "nbconvert_exporter": "python",
   "pygments_lexer": "ipython3",
   "version": "3.7.4"
  }
 },
 "nbformat": 4,
 "nbformat_minor": 2
}
